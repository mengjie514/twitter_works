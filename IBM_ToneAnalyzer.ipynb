{
 "cells": [
  {
   "cell_type": "code",
   "execution_count": 1,
   "metadata": {
    "collapsed": true,
    "scrolled": true
   },
   "outputs": [],
   "source": [
    "import os\n",
    "import pandas as pd\n",
    "import numpy as np\n",
    "import re\n",
    "import math\n",
    "import string\n",
    "import requests\n",
    "from itertools import product\n",
    "from inspect import getsourcefile\n",
    "\n",
    "os.chdir('C:\\\\Users\\\\mwa150')\n",
    "pd.set_option('display.max_colwidth', -1)"
   ]
  },
  {
   "cell_type": "markdown",
   "metadata": {},
   "source": [
    "# text cleaning for tweets"
   ]
  },
  {
   "cell_type": "code",
   "execution_count": 17,
   "metadata": {
    "collapsed": true
   },
   "outputs": [],
   "source": [
    "import string\n",
    "from html.parser import HTMLParser\n",
    "import re\n",
    "from nltk.tokenize import WordPunctTokenizer\n",
    "from nltk.tokenize import word_tokenize\n",
    "from bs4 import BeautifulSoup\n",
    "\n",
    "split_adhere_dic = { # split\n",
    "                    \"cause\": \"because\", \"could've\": \"could have\", \n",
    "                    \"he'd\": \"he would\", \"he'd've\": \"he would have\", \"he'll\": \"he will\", \n",
    "                    \"he'll've\": \"he will have\", \"he's\": \"he is\", \"how'd\": \"how did\", \n",
    "                    \"how'd'y\": \"how do you\", \"how'll\": \"how will\", \"how's\": \"how is\", \n",
    "                    \"I'd\": \"I would\", \"I'd've\": \"I would have\", \"I'll\": \"I will\", \n",
    "                    \"I'll've\": \"I will have\",\"I'm\": \"I am\", \"I've\": \"I have\", \n",
    "                    \"i'd\": \"i would\", \"i'd've\": \"i would have\", \"i'll\": \"i will\", \n",
    "                    \"i'll've\": \"i will have\",\"i'm\": \"i am\", \"i've\": \"i have\",\n",
    "                    \"it'd\": \"it would\", \"it'd've\": \"it would have\", \"it'll\": \"it will\", \n",
    "                    \"it'll've\": \"it will have\",\"it's\": \"it is\", \n",
    "                    \"let's\": \"let us\", \"ma'am\": \"madam\", \"might've\": \"might have\",\n",
    "                    \"o'clock\": \"of the clock\", \n",
    "                    \"she'd\": \"she would\", \"she'd've\": \"she would have\", \"she'll\": \"she will\", \n",
    "                    \"she'll've\": \"she will have\", \"she's\": \"she is\", \"should've\": \"should have\",\n",
    "                    \"so've\": \"so have\",\"so's\": \"so as\", \n",
    "                    \"this's\": \"this is\",\n",
    "                    \"that'd\": \"that would\", \"that'd've\": \"that would have\",\"that's\": \"that is\", \n",
    "                    \"there'd\": \"there would\", \"there'd've\": \"there would have\",\"there's\": \"there is\", \n",
    "                    \"here's\": \"here is\",\n",
    "                    \"they'd\": \"they would\", \"they'd've\": \"they would have\", \"they'll\": \"they will\", \n",
    "                    \"they'll've\": \"they will have\", \"they're\": \"they are\", \"they've\": \"they have\",\n",
    "                    \"to've\": \"to have\", \"we'd\": \"we would\", \"we'd've\": \"we would have\", \"we'll\": \"we will\", \n",
    "                    \"we'll've\": \"we will have\", \"we're\": \"we are\", \"we've\": \"we have\",\n",
    "                    \"what'll\": \"what will\", \"what'll've\": \"what will have\", \"what're\": \"what are\", \n",
    "                    \"what's\": \"what is\", \"what've\": \"what have\", \"when's\": \"when is\", \n",
    "                    \"when've\": \"when have\", \"where'd\": \"where did\", \"where's\": \"where is\", \n",
    "                    \"where've\": \"where have\", \"who'll\": \"who will\", \"who'll've\": \"who will have\", \n",
    "                    \"who's\": \"who is\", \"who've\": \"who have\", \"why's\": \"why is\", \n",
    "                    \"why've\": \"why have\", \"will've\": \"will have\", \"would've\": \"would have\",\n",
    "                    \"y'all\": \"you all\", \"y'all'd\": \"you all would\", \"y'all'd've\": \"you all would have\",\n",
    "                    \"y'all're\": \"you all are\",\"y'all've\": \"you all have\", \"you'd\": \"you would\", \n",
    "                    \"you'd've\": \"you would have\", \"you'll\": \"you will\", \n",
    "                    \"you'll've\": \"you will have\", \"you're\": \"you are\", \"you've\": \"you have\",\n",
    "                     # adhere \n",
    "                    \"is not\": \"ain't\", \"are not\": \"aren't\",\"cannot\": \"can't\", \"can not\": \"can't\", \n",
    "                    \"cannot have\": \"can't've\", \"could not\": \"couldn't\", \"could not have\": \"couldn't've\",\"did not\": \"didn't\", \n",
    "                    \"does not\": \"doesn't\", \"do not\": \"don't\", \"had not\": \"hadn't\",  \n",
    "                    \"had not have\": \"hadn't've\", \"has not\": \"hasn't\", \"have not\": \"haven't\", \"is not\": \"isn't\", \n",
    "                    \"may not\": \"mayn't\", \"might not\": \"mightn't\",\"might not have\": \"mightn't've\", \n",
    "                    \"must have\": \"must've\", \"must not\": \"mustn't\", \"must not have\": \"mustn't've\", \n",
    "                    \"need not\": \"needn't\", \"need not have\": \"needn't've\",\n",
    "                    \"ought not\": \"oughtn't\", \"ought not have\": \"oughtn't've\", \"shall not\": \"shan't\",\n",
    "                    \"shall not\": \"sha'n't\", \"shall not have\": \"shan't've\", \n",
    "                    \"should not\": \"shouldn't\", \"should not have\": \"shouldn't've\", \"was not\": \"wasn't\", \"were not\": \"weren't\",\n",
    "                    \"will not\": \"won't\", \"will not have\": \"won't've\",  \"would not\": \"wouldn't\", \n",
    "                    \"would not have\": \"wouldn't've\", \n",
    "                    \"no prblme\": \"noproblem\", \"no prob\": \"noprob\", \"no problems\": \"noproblmes\", \"no probs\": \"noprobs\",\n",
    "                    \"no worry\": \"noworry\", \"no worries\": \"noworries\", \"good bey\": \"goodbey\", \"long time no see\": \"longtimenosee\", \n",
    "                    \"nothing but\": \"nothingbut\", \"no more\": \"nomore\",\"kind of\": \"kindof\", \"sort of\": \"sortof\"}\n",
    "    \n",
    "pat1 = r'@[\\w_]+' # @-mention\n",
    "pat2 = r'http[s]?://(?:[a-z]|[0-9]|[$-_@.&amp;+]|[!*\\(\\),]|(?:%[0-9a-f][0-9a-f]))+' # URLs\n",
    "pat3 = r'#[\\w_]+' # hash-tags\n",
    "pat5 = r'www.[^ ]+' # additions to URLs, texts with 'www..'\n",
    "combined_pat = r'|'.join((pat1, pat2, pat3, pat5))\n",
    "\n",
    "split_pattern = re.compile(r'\\b(' + '|'.join(split_adhere_dic.keys()) + r')\\b')\n",
    "\n",
    "def tweet_cleaner(demo):\n",
    "    soup = BeautifulSoup(demo, 'lxml') # HTML\n",
    "    souped = soup.get_text()\n",
    "    stripped = re.sub(combined_pat, '', souped)\n",
    "    split_handled = split_pattern.sub(lambda x: split_adhere_dic[x.group()], stripped)\n",
    "\n",
    "    return split_handled"
   ]
  },
  {
   "cell_type": "code",
   "execution_count": 53,
   "metadata": {
    "scrolled": false
   },
   "outputs": [
    {
     "name": "stderr",
     "output_type": "stream",
     "text": [
      "C:\\Program Files\\Anaconda\\lib\\site-packages\\bs4\\builder\\_lxml.py:250: DeprecationWarning: inspect.getargspec() is deprecated, use inspect.signature() or inspect.getfullargspec()\n",
      "  self.parser.feed(markup)\n",
      "C:\\Program Files\\Anaconda\\lib\\site-packages\\bs4\\builder\\_lxml.py:250: DeprecationWarning: inspect.getargspec() is deprecated, use inspect.signature() or inspect.getfullargspec()\n",
      "  self.parser.feed(markup)\n",
      "C:\\Program Files\\Anaconda\\lib\\site-packages\\bs4\\builder\\_lxml.py:250: DeprecationWarning: inspect.getargspec() is deprecated, use inspect.signature() or inspect.getfullargspec()\n",
      "  self.parser.feed(markup)\n",
      "C:\\Program Files\\Anaconda\\lib\\site-packages\\bs4\\builder\\_lxml.py:250: DeprecationWarning: inspect.getargspec() is deprecated, use inspect.signature() or inspect.getfullargspec()\n",
      "  self.parser.feed(markup)\n",
      "C:\\Program Files\\Anaconda\\lib\\site-packages\\bs4\\builder\\_lxml.py:250: DeprecationWarning: inspect.getargspec() is deprecated, use inspect.signature() or inspect.getfullargspec()\n",
      "  self.parser.feed(markup)\n"
     ]
    }
   ],
   "source": [
    "df = pd.read_csv('politicians_vader.csv')\n",
    "df = df.head(5)\n",
    "\n",
    "# apply tweet_cleaner to tweets\n",
    "df['new_clean_text'] = [tweet_cleaner(t) for t in df.full_text]\n",
    "# remove punctuations\n",
    "df['new_clean_text'] = df['new_clean_text'].str.replace(r'[^\\w\\s]+', '')\n",
    "# and add '.' to the end of each line\n",
    "df['new_clean_text'] = df['new_clean_text'] + \".\"\n",
    "    \n",
    "text = df['new_clean_text'].to_string()\n",
    "\n",
    "# transfer clean_text to str by txt\n",
    "# for c in df.columns:\n",
    "#     df['new_clean_text'].to_csv(c + '.txt', index=False)\n",
    "    \n",
    "# with open('new_clean_text.txt', 'r') as file:\n",
    "#     data = file.read().replace('\\n', '')"
   ]
  },
  {
   "cell_type": "markdown",
   "metadata": {},
   "source": [
    "# IBM Tone Analyzer"
   ]
  },
  {
   "cell_type": "code",
   "execution_count": 55,
   "metadata": {
    "scrolled": true
   },
   "outputs": [
    {
     "name": "stderr",
     "output_type": "stream",
     "text": [
      "C:\\Program Files\\Anaconda\\lib\\site-packages\\ipykernel_launcher.py:9: DeprecationWarning: ToneAnalyzerV3 is a deprecated function. watson-developer-cloud moved to ibm-watson\n",
      "  if __name__ == '__main__':\n"
     ]
    },
    {
     "name": "stdout",
     "output_type": "stream",
     "text": [
      "{\n",
      "  \"document_tone\": {\n",
      "    \"tones\": [\n",
      "      {\n",
      "        \"score\": 0.70704,\n",
      "        \"tone_id\": \"joy\",\n",
      "        \"tone_name\": \"Joy\"\n",
      "      },\n",
      "      {\n",
      "        \"score\": 0.693882,\n",
      "        \"tone_id\": \"analytical\",\n",
      "        \"tone_name\": \"Analytical\"\n",
      "      }\n",
      "    ]\n",
      "  },\n",
      "  \"sentences_tone\": [\n",
      "    {\n",
      "      \"sentence_id\": 0,\n",
      "      \"text\": \"0    Roger Stones attorney sent a letter this week stating Stone wont provide documents or appear for an interview before the committee  .                                                                                                      \",\n",
      "      \"tones\": [\n",
      "        {\n",
      "          \"score\": 0.659112,\n",
      "          \"tone_id\": \"tentative\",\n",
      "          \"tone_name\": \"Tentative\"\n",
      "        }\n",
      "      ]\n",
      "    },\n",
      "    {\n",
      "      \"sentence_id\": 1,\n",
      "      \"text\": \"1    Education Secretary DeVos proposal to rewrite campus sexual assault guidelines will harm survivors and likely discourage many from ever coming forward Leave a comment and tell the Education Dept we dont want these protections gutted  .\",\n",
      "      \"tones\": [\n",
      "        {\n",
      "          \"score\": 0.52354,\n",
      "          \"tone_id\": \"sadness\",\n",
      "          \"tone_name\": \"Sadness\"\n",
      "        },\n",
      "        {\n",
      "          \"score\": 0.620279,\n",
      "          \"tone_id\": \"analytical\",\n",
      "          \"tone_name\": \"Analytical\"\n",
      "        }\n",
      "      ]\n",
      "    },\n",
      "    {\n",
      "      \"sentence_id\": 2,\n",
      "      \"text\": \"2    US citizen children are eligible for health insurance coverage but President Trumps plan to bar legal immigrants from green cards is keeping immigrant parents from signing them up .\",\n",
      "      \"tones\": []\n",
      "    },\n",
      "    {\n",
      "      \"sentence_id\": 3,\n",
      "      \"text\": \"3    Happy  to all those celebrating in California and across the world I hope everyone enjoys a Festival of Lights surrounded by friends and family.\",\n",
      "      \"tones\": [\n",
      "        {\n",
      "          \"score\": 0.943498,\n",
      "          \"tone_id\": \"joy\",\n",
      "          \"tone_name\": \"Joy\"\n",
      "        }\n",
      "      ]\n",
      "    },\n",
      "    {\n",
      "      \"sentence_id\": 4,\n",
      "      \"text\": \"4    Theres no question that George HW Bush led our country through a time of turmoil The fall of the Soviet Union and the Gulf War were both defining moments that continue to shape our nation today.\",\n",
      "      \"tones\": [\n",
      "        {\n",
      "          \"score\": 0.794465,\n",
      "          \"tone_id\": \"analytical\",\n",
      "          \"tone_name\": \"Analytical\"\n",
      "        }\n",
      "      ]\n",
      "    }\n",
      "  ]\n",
      "}\n"
     ]
    }
   ],
   "source": [
    "from watson_developer_cloud import ToneAnalyzerV3\n",
    "\n",
    "tone_analyzer = ToneAnalyzerV3(\n",
    "    version='',\n",
    "    iam_apikey='',\n",
    "    url=''\n",
    ")\n",
    "\n",
    "# sample_text = '0 Team, I know that times are tough!  '\\\n",
    "#    '1 Sales have been disappointing for the past three. '\\\n",
    "#    '2 I need to do a better job of selling it!'\n",
    "    \n",
    "text = text\n",
    "\n",
    "tone_analysis = tone_analyzer.tone(\n",
    "    {'text': text},\n",
    "    'application/json').get_result()\n",
    "\n",
    "print(json.dumps(tone_analysis, indent=2))"
   ]
  },
  {
   "cell_type": "code",
   "execution_count": 99,
   "metadata": {},
   "outputs": []
  },
  {
   "cell_type": "code",
   "execution_count": 105,
   "metadata": {
    "scrolled": true
   },
   "outputs": [],
   "source": [
    "# save as json file\n",
    "import json\n",
    "\n",
    "with open('data.json', 'w') as fp:\n",
    "    json.dump(tone_analysis, fp, indent=4)    "
   ]
  },
  {
   "cell_type": "code",
   "execution_count": 147,
   "metadata": {
    "scrolled": true
   },
   "outputs": [
    {
     "data": {
      "text/html": [
       "<div>\n",
       "<style>\n",
       "    .dataframe thead tr:only-child th {\n",
       "        text-align: right;\n",
       "    }\n",
       "\n",
       "    .dataframe thead th {\n",
       "        text-align: left;\n",
       "    }\n",
       "\n",
       "    .dataframe tbody tr th {\n",
       "        vertical-align: top;\n",
       "    }\n",
       "</style>\n",
       "<table border=\"1\" class=\"dataframe\">\n",
       "  <thead>\n",
       "    <tr style=\"text-align: right;\">\n",
       "      <th></th>\n",
       "      <th>sentence_id</th>\n",
       "      <th>text</th>\n",
       "      <th>tones</th>\n",
       "    </tr>\n",
       "  </thead>\n",
       "  <tbody>\n",
       "    <tr>\n",
       "      <th>0</th>\n",
       "      <td>0</td>\n",
       "      <td>0    Roger Stones attorney sent a letter this week stating Stone wont provide documents or appear for an interview before the committee  .</td>\n",
       "      <td>[{'score': 0.659112, 'tone_id': 'tentative', 'tone_name': 'Tentative'}]</td>\n",
       "    </tr>\n",
       "    <tr>\n",
       "      <th>1</th>\n",
       "      <td>1</td>\n",
       "      <td>1    Education Secretary DeVos proposal to rewrite campus sexual assault guidelines will harm survivors and likely discourage many from ever coming forward Leave a comment and tell the Education Dept we dont want these protections gutted  .</td>\n",
       "      <td>[{'score': 0.52354, 'tone_id': 'sadness', 'tone_name': 'Sadness'}, {'score': 0.620279, 'tone_id': 'analytical', 'tone_name': 'Analytical'}]</td>\n",
       "    </tr>\n",
       "    <tr>\n",
       "      <th>2</th>\n",
       "      <td>2</td>\n",
       "      <td>2    US citizen children are eligible for health insurance coverage but President Trumps plan to bar legal immigrants from green cards is keeping immigrant parents from signing them up .</td>\n",
       "      <td>[]</td>\n",
       "    </tr>\n",
       "    <tr>\n",
       "      <th>3</th>\n",
       "      <td>3</td>\n",
       "      <td>3    Happy  to all those celebrating in California and across the world I hope everyone enjoys a Festival of Lights surrounded by friends and family.</td>\n",
       "      <td>[{'score': 0.943498, 'tone_id': 'joy', 'tone_name': 'Joy'}]</td>\n",
       "    </tr>\n",
       "    <tr>\n",
       "      <th>4</th>\n",
       "      <td>4</td>\n",
       "      <td>4    Theres no question that George HW Bush led our country through a time of turmoil The fall of the Soviet Union and the Gulf War were both defining moments that continue to shape our nation today.</td>\n",
       "      <td>[{'score': 0.794465, 'tone_id': 'analytical', 'tone_name': 'Analytical'}]</td>\n",
       "    </tr>\n",
       "  </tbody>\n",
       "</table>\n",
       "</div>"
      ],
      "text/plain": [
       "   sentence_id  \\\n",
       "0  0             \n",
       "1  1             \n",
       "2  2             \n",
       "3  3             \n",
       "4  4             \n",
       "\n",
       "                                                                                                                                                                                                                                               text  \\\n",
       "0  0    Roger Stones attorney sent a letter this week stating Stone wont provide documents or appear for an interview before the committee  .                                                                                                         \n",
       "1  1    Education Secretary DeVos proposal to rewrite campus sexual assault guidelines will harm survivors and likely discourage many from ever coming forward Leave a comment and tell the Education Dept we dont want these protections gutted  .   \n",
       "2  2    US citizen children are eligible for health insurance coverage but President Trumps plan to bar legal immigrants from green cards is keeping immigrant parents from signing them up .                                                         \n",
       "3  3    Happy  to all those celebrating in California and across the world I hope everyone enjoys a Festival of Lights surrounded by friends and family.                                                                                              \n",
       "4  4    Theres no question that George HW Bush led our country through a time of turmoil The fall of the Soviet Union and the Gulf War were both defining moments that continue to shape our nation today.                                            \n",
       "\n",
       "                                                                                                                                         tones  \n",
       "0  [{'score': 0.659112, 'tone_id': 'tentative', 'tone_name': 'Tentative'}]                                                                      \n",
       "1  [{'score': 0.52354, 'tone_id': 'sadness', 'tone_name': 'Sadness'}, {'score': 0.620279, 'tone_id': 'analytical', 'tone_name': 'Analytical'}]  \n",
       "2  []                                                                                                                                           \n",
       "3  [{'score': 0.943498, 'tone_id': 'joy', 'tone_name': 'Joy'}]                                                                                  \n",
       "4  [{'score': 0.794465, 'tone_id': 'analytical', 'tone_name': 'Analytical'}]                                                                    "
      ]
     },
     "execution_count": 147,
     "metadata": {},
     "output_type": "execute_result"
    }
   ],
   "source": [
    "data = json.load(open('data.json'))\n",
    "df = pd.DataFrame(data[\"sentences_tone\"])\n",
    "df"
   ]
  },
  {
   "cell_type": "code",
   "execution_count": null,
   "metadata": {},
   "outputs": [],
   "source": [
    "add_score = []\n",
    "add_toneid = []\n",
    "\n",
    "for index, row in df.iterrows():\n",
    "    sc = (row['tones']['score'])\n",
    "    to = (row['tones']['tone_name'])\n",
    "    \n",
    "    add_score.append(sc)\n",
    "    add_toneid.append(to)\n",
    "    \n",
    "df['tone_score'] = add_score\n",
    "df['tone_id'] = add_toneid"
   ]
  }
 ],
 "metadata": {
  "kernelspec": {
   "display_name": "Python 3",
   "language": "python",
   "name": "python3"
  },
  "language_info": {
   "codemirror_mode": {
    "name": "ipython",
    "version": 3
   },
   "file_extension": ".py",
   "mimetype": "text/x-python",
   "name": "python",
   "nbconvert_exporter": "python",
   "pygments_lexer": "ipython3",
   "version": "3.6.1"
  }
 },
 "nbformat": 4,
 "nbformat_minor": 2
}
