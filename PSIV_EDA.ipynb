{
  "nbformat": 4,
  "nbformat_minor": 0,
  "metadata": {
    "accelerator": "GPU",
    "colab": {
      "name": "PSIV_EDA.ipynb",
      "provenance": [],
      "collapsed_sections": [],
      "machine_shape": "hm",
      "authorship_tag": "ABX9TyMssQKt+R1wa/r7dqwnyvSp",
      "include_colab_link": true
    },
    "kernelspec": {
      "display_name": "Python 3",
      "name": "python3"
    }
  },
  "cells": [
    {
      "cell_type": "markdown",
      "metadata": {
        "id": "view-in-github",
        "colab_type": "text"
      },
      "source": [
        "<a href=\"https://colab.research.google.com/github/mengjie514/twitter_works/blob/master/PSIV_EDA.ipynb\" target=\"_parent\"><img src=\"https://colab.research.google.com/assets/colab-badge.svg\" alt=\"Open In Colab\"/></a>"
      ]
    },
    {
      "cell_type": "markdown",
      "metadata": {
        "id": "GwMK4j3MCvTm"
      },
      "source": [
        "**3. Exploratory Data Analysis (EDA)**"
      ]
    },
    {
      "cell_type": "code",
      "metadata": {
        "colab": {
          "base_uri": "https://localhost:8080/",
          "height": 285
        },
        "id": "ch-rZ2-SfRvx",
        "outputId": "c956e0c7-eeb4-4bad-d093-8af1b250d301"
      },
      "source": [
        "import os\n",
        "from google.colab import drive\n",
        "drive.mount('/content/gdrive')\n",
        "os.chdir(\"/content/gdrive/My Drive/Colab Notebooks/PSIV\")\n",
        "import pandas as pd\n",
        "import numpy as np\n",
        "pd.set_option('display.max_colwidth', -1)\n",
        "\n",
        "df = pd.read_excel('output_for_R_0.65.xlsx')\n",
        "df = df[['care', 'harm','fairness','cheating','loyalty','betrayal','authority','subversion', 'purity','degradation','non-moral','annotation_main','new_clean_text','new_clean_text_deep_stem','Corpus']]\n",
        "df.columns = ['care0', 'harm0','fairness0','cheating0','loyalty0','betrayal0','authority0','subversion0', 'purity0','degradation0','non-moral0','annotation_main','new_clean_text','new_clean_text_deep_stem','Corpus']\n",
        "df = df[df['new_clean_text_deep_stem'].notna()]\n",
        "df = df[df['annotation_main'].notna()]\n",
        "df.reset_index(inplace=True)\n",
        "\n",
        "# copy a df for for word counts\n",
        "df_words = df\n",
        "\n",
        "print(\"Number of rows in data =\", df.shape[0])\n",
        "print(\"Number of columns in data =\", df.shape[1])\n",
        "print(\"\\n\")\n",
        "print(\"**Sample data:**\")\n",
        "df.head(1)"
      ],
      "execution_count": null,
      "outputs": [
        {
          "output_type": "stream",
          "text": [
            "Mounted at /content/gdrive\n"
          ],
          "name": "stdout"
        },
        {
          "output_type": "stream",
          "text": [
            "/usr/local/lib/python3.7/dist-packages/ipykernel_launcher.py:7: FutureWarning: Passing a negative integer is deprecated in version 1.0 and will not be supported in future version. Instead, use None to not limit the column width.\n",
            "  import sys\n"
          ],
          "name": "stderr"
        },
        {
          "output_type": "stream",
          "text": [
            "Number of rows in data = 25794\n",
            "Number of columns in data = 16\n",
            "\n",
            "\n",
            "**Sample data:**\n"
          ],
          "name": "stdout"
        },
        {
          "output_type": "execute_result",
          "data": {
            "text/html": [
              "<div>\n",
              "<style scoped>\n",
              "    .dataframe tbody tr th:only-of-type {\n",
              "        vertical-align: middle;\n",
              "    }\n",
              "\n",
              "    .dataframe tbody tr th {\n",
              "        vertical-align: top;\n",
              "    }\n",
              "\n",
              "    .dataframe thead th {\n",
              "        text-align: right;\n",
              "    }\n",
              "</style>\n",
              "<table border=\"1\" class=\"dataframe\">\n",
              "  <thead>\n",
              "    <tr style=\"text-align: right;\">\n",
              "      <th></th>\n",
              "      <th>index</th>\n",
              "      <th>care0</th>\n",
              "      <th>harm0</th>\n",
              "      <th>fairness0</th>\n",
              "      <th>cheating0</th>\n",
              "      <th>loyalty0</th>\n",
              "      <th>betrayal0</th>\n",
              "      <th>authority0</th>\n",
              "      <th>subversion0</th>\n",
              "      <th>purity0</th>\n",
              "      <th>degradation0</th>\n",
              "      <th>non-moral0</th>\n",
              "      <th>annotation_main</th>\n",
              "      <th>new_clean_text</th>\n",
              "      <th>new_clean_text_deep_stem</th>\n",
              "      <th>Corpus</th>\n",
              "    </tr>\n",
              "  </thead>\n",
              "  <tbody>\n",
              "    <tr>\n",
              "      <th>0</th>\n",
              "      <td>0</td>\n",
              "      <td>1.0</td>\n",
              "      <td>0.0</td>\n",
              "      <td>0.0</td>\n",
              "      <td>0.0</td>\n",
              "      <td>0.0</td>\n",
              "      <td>0.0</td>\n",
              "      <td>0.0</td>\n",
              "      <td>0.0</td>\n",
              "      <td>0.5</td>\n",
              "      <td>0.0</td>\n",
              "      <td>0.0</td>\n",
              "      <td>care</td>\n",
              "      <td>Peace and Love Prevail. God Bless.</td>\n",
              "      <td>peac love prevail god bless</td>\n",
              "      <td>ALM</td>\n",
              "    </tr>\n",
              "  </tbody>\n",
              "</table>\n",
              "</div>"
            ],
            "text/plain": [
              "   index  care0  ...     new_clean_text_deep_stem  Corpus\n",
              "0  0      1.0    ...  peac love prevail god bless  ALM   \n",
              "\n",
              "[1 rows x 16 columns]"
            ]
          },
          "metadata": {
            "tags": []
          },
          "execution_count": 1
        }
      ]
    },
    {
      "cell_type": "markdown",
      "metadata": {
        "id": "PTTAa9nTDIF7"
      },
      "source": [
        "**3.1 Turning annotation list into set of columns of binary data**"
      ]
    },
    {
      "cell_type": "code",
      "metadata": {
        "colab": {
          "base_uri": "https://localhost:8080/",
          "height": 80
        },
        "id": "i2WUuxFGa3-j",
        "outputId": "4361a593-efdc-4561-af3e-9079c7024c49"
      },
      "source": [
        "from sklearn.preprocessing import MultiLabelBinarizer\n",
        "\n",
        "annotation_new=[]\n",
        "\n",
        "for cell in df['annotation_main']:\n",
        "    cell=cell.replace(\" \", \"\") \n",
        "    cell=cell.replace(\"&\", \"& \") \n",
        "    annotation_new.append(cell.split(\",\"))\n",
        "\n",
        "df['annotation_new'] = annotation_new \n",
        "\n",
        "mlb = MultiLabelBinarizer() \n",
        "binary_labels=pd.DataFrame(mlb.fit_transform(df['annotation_new']),columns=mlb.classes_) \n",
        "binary_labels=binary_labels.sort_index(axis=1) \n",
        "\n",
        "df = df.join(binary_labels)\n",
        "df = df[['new_clean_text_deep_stem', 'care', 'harm','fairness','cheating','loyalty','betrayal','authority','subversion', 'purity','degradation','non-moral']]\n",
        "df.head(1)"
      ],
      "execution_count": null,
      "outputs": [
        {
          "output_type": "execute_result",
          "data": {
            "text/html": [
              "<div>\n",
              "<style scoped>\n",
              "    .dataframe tbody tr th:only-of-type {\n",
              "        vertical-align: middle;\n",
              "    }\n",
              "\n",
              "    .dataframe tbody tr th {\n",
              "        vertical-align: top;\n",
              "    }\n",
              "\n",
              "    .dataframe thead th {\n",
              "        text-align: right;\n",
              "    }\n",
              "</style>\n",
              "<table border=\"1\" class=\"dataframe\">\n",
              "  <thead>\n",
              "    <tr style=\"text-align: right;\">\n",
              "      <th></th>\n",
              "      <th>new_clean_text_deep_stem</th>\n",
              "      <th>care</th>\n",
              "      <th>harm</th>\n",
              "      <th>fairness</th>\n",
              "      <th>cheating</th>\n",
              "      <th>loyalty</th>\n",
              "      <th>betrayal</th>\n",
              "      <th>authority</th>\n",
              "      <th>subversion</th>\n",
              "      <th>purity</th>\n",
              "      <th>degradation</th>\n",
              "      <th>non-moral</th>\n",
              "    </tr>\n",
              "  </thead>\n",
              "  <tbody>\n",
              "    <tr>\n",
              "      <th>0</th>\n",
              "      <td>peac love prevail god bless</td>\n",
              "      <td>1</td>\n",
              "      <td>0</td>\n",
              "      <td>0</td>\n",
              "      <td>0</td>\n",
              "      <td>0</td>\n",
              "      <td>0</td>\n",
              "      <td>0</td>\n",
              "      <td>0</td>\n",
              "      <td>0</td>\n",
              "      <td>0</td>\n",
              "      <td>0</td>\n",
              "    </tr>\n",
              "  </tbody>\n",
              "</table>\n",
              "</div>"
            ],
            "text/plain": [
              "      new_clean_text_deep_stem  care  harm  ...  purity  degradation  non-moral\n",
              "0  peac love prevail god bless  1     0     ...  0       0            0        \n",
              "\n",
              "[1 rows x 12 columns]"
            ]
          },
          "metadata": {
            "tags": []
          },
          "execution_count": 2
        }
      ]
    },
    {
      "cell_type": "markdown",
      "metadata": {
        "id": "BhGel5YB11Bt"
      },
      "source": [
        "**3.2 Count number of texts under each/multi labels**"
      ]
    },
    {
      "cell_type": "code",
      "metadata": {
        "colab": {
          "base_uri": "https://localhost:8080/",
          "height": 553
        },
        "id": "hfT1rISF11Pz",
        "outputId": "1b7b4b6c-73b0-4211-f4ca-081b5d1ba7ef"
      },
      "source": [
        "import matplotlib.pyplot as plt\n",
        "import seaborn as sns\n",
        "\n",
        "categories = list(df.iloc[:,1:].columns.values)\n",
        "sns.set(font_scale = 2)\n",
        "plt.figure(figsize=(15,8))\n",
        "\n",
        "ax= sns.barplot(categories, df.iloc[:,1:].sum().values)\n",
        "ax.tick_params(axis = 'both', which = 'major', labelsize = 10)\n",
        "ax.tick_params(axis = 'both', which = 'minor', labelsize = 10)\n",
        "plt.ylabel('Number of Tweets', fontsize=11)\n",
        "plt.xlabel('Moral Type ', fontsize=11)\n",
        "\n",
        "rects = ax.patches\n",
        "labels = df.iloc[:,1:].sum().values\n",
        "for rect, label in zip(rects, labels):\n",
        "    height = rect.get_height()\n",
        "    ax.text(rect.get_x() + rect.get_width()/2, height + 5, label, ha='center', va='bottom', fontsize=10)\n",
        "plt.show()"
      ],
      "execution_count": null,
      "outputs": [
        {
          "output_type": "stream",
          "text": [
            "/usr/local/lib/python3.7/dist-packages/seaborn/_decorators.py:43: FutureWarning: Pass the following variables as keyword args: x, y. From version 0.12, the only valid positional argument will be `data`, and passing other arguments without an explicit keyword will result in an error or misinterpretation.\n",
            "  FutureWarning\n"
          ],
          "name": "stderr"
        },
        {
          "output_type": "display_data",
          "data": {
            "image/png": "[encoded data removed]",
            "text/plain": [
              "<Figure size 1080x576 with 1 Axes>"
            ]
          },
          "metadata": {
            "tags": []
          }
        }
      ]
    },
    {
      "cell_type": "markdown",
      "metadata": {
        "id": "Q4uCce1J4FsG"
      },
      "source": [
        "**3.3 Count number of texts having multi labels**"
      ]
    },
    {
      "cell_type": "code",
      "metadata": {
        "colab": {
          "base_uri": "https://localhost:8080/",
          "height": 567
        },
        "id": "Vt35vvMx4J2x",
        "outputId": "9d6e0d38-6017-4810-a6db-b45abdb59f26"
      },
      "source": [
        "rowSums = df.iloc[:,1:].sum(axis=1)\n",
        "multiLabel_counts = rowSums.value_counts()\n",
        "multiLabel_counts = multiLabel_counts.iloc[0:]\n",
        "sns.set(font_scale = 2)\n",
        "plt.figure(figsize=(15,8))\n",
        "ax = sns.barplot(multiLabel_counts.index, multiLabel_counts.values)\n",
        "ax.tick_params(axis = 'both', which = 'major', labelsize = 10)\n",
        "ax.tick_params(axis = 'both', which = 'minor', labelsize = 10)\n",
        "plt.title(\"Tweets having Multiple Moral Labels\", fontsize=11)\n",
        "plt.ylabel('Number of Tweets', fontsize=11)\n",
        "plt.xlabel('Number of Moral Labels', fontsize=11)\n",
        "\n",
        "rects = ax.patches\n",
        "labels = multiLabel_counts.values\n",
        "for rect, label in zip(rects, labels):\n",
        "    height = rect.get_height()\n",
        "    ax.text(rect.get_x() + rect.get_width()/2, height + 5, label, ha='center', va='bottom', fontsize=10)\n",
        "plt.show()"
      ],
      "execution_count": null,
      "outputs": [
        {
          "output_type": "stream",
          "text": [
            "/usr/local/lib/python3.7/dist-packages/seaborn/_decorators.py:43: FutureWarning: Pass the following variables as keyword args: x, y. From version 0.12, the only valid positional argument will be `data`, and passing other arguments without an explicit keyword will result in an error or misinterpretation.\n",
            "  FutureWarning\n"
          ],
          "name": "stderr"
        },
        {
          "output_type": "display_data",
          "data": {
            "image/png": "[encoded data removed]",
            "text/plain": [
              "<Figure size 1080x576 with 1 Axes>"
            ]
          },
          "metadata": {
            "tags": []
          }
        }
      ]
    },
    {
      "cell_type": "markdown",
      "metadata": {
        "id": "5878VCM219IX"
      },
      "source": [
        "**3.4 Words frequency under each label**"
      ]
    },
    {
      "cell_type": "code",
      "metadata": {
        "colab": {
          "base_uri": "https://localhost:8080/"
        },
        "id": "1Ja5y4az6UX0",
        "outputId": "876adcd0-c350-4ff4-b873-703013cd31f1"
      },
      "source": [
        "import nltk\n",
        "\n",
        "def orig(df):\n",
        "    s = df_words[\"annotation_main\"].str.split(',').apply(pd.Series,1).stack()\n",
        "    s.index = s.index.droplevel(-1)\n",
        "    s.name = \"annotation_split\"\n",
        "    return df.join(s)\n",
        "\n",
        "df = %time orig(df.copy())\n",
        "\n",
        "# count words frequency grouped by label\n",
        "nltk.download('punkt')\n",
        "output = pd.DataFrame(df.groupby('annotation_split')['new_clean_text_deep_stem'].apply(lambda x: nltk.FreqDist(nltk.tokenize.word_tokenize(' '.join(x)))))\n",
        "output = output.reset_index().rename(columns={df.index.name:'annotation_split','level_1':'words','new_clean_text_deep_stem':'count'})\n",
        "\n",
        "output['high_freq'] = np.where(output['count'] >= 100.0, 'Y', 'N')\n",
        "\n",
        "# present high-frequent words for each label\n",
        "df_agg = output[output.high_freq == 'Y'].groupby(['annotation_split','words']).agg({'count':sum})\n",
        "g = df_agg['count'].groupby('annotation_split', group_keys=False)\n",
        "\n",
        "print(\"\\n\")\n",
        "print(\"**Count the most common words per label:**\")\n",
        "pd.set_option('display.max_colwidth', -1)\n",
        "print(g.apply(lambda x: x.sort_values(ascending=False).head(3)))"
      ],
      "execution_count": null,
      "outputs": [
        {
          "output_type": "stream",
          "text": [
            "CPU times: user 7.96 s, sys: 542 ms, total: 8.5 s\n",
            "Wall time: 7.92 s\n",
            "[nltk_data] Downloading package punkt to /root/nltk_data...\n",
            "[nltk_data]   Unzipping tokenizers/punkt.zip.\n",
            "\n",
            "\n",
            "**Count the most common words per label:**\n",
            "annotation_split  words   \n",
            "authority         respect     384.0 \n",
            "                  obey        351.0 \n",
            "                  law         316.0 \n",
            "betrayal          traitor     300.0 \n",
            "                  peopl       134.0 \n",
            "                  polic       107.0 \n",
            "care              sandi       608.0 \n",
            "                  love        513.0 \n",
            "                  compass     414.0 \n",
            "cheating          injustic    424.0 \n",
            "                  sandi       359.0 \n",
            "                  fraud       340.0 \n",
            "degradation       disgust     167.0 \n",
            "                  traitor     126.0 \n",
            "                  god         108.0 \n",
            "fairness          justic      1114.0\n",
            "                  equal       524.0 \n",
            "                  right       358.0 \n",
            "harm              sandi       631.0 \n",
            "                  hurt        369.0 \n",
            "                  peopl       323.0 \n",
            "loyalty           solidar     664.0 \n",
            "                  sandi       233.0 \n",
            "                  love        204.0 \n",
            "non-moral         bitch       1745.0\n",
            "                  like        713.0 \n",
            "                  hoe         645.0 \n",
            "purity            god         129.0 \n",
            "                  life        108.0 \n",
            "subversion        sandi       336.0 \n",
            "                  disobedi    157.0 \n",
            "                  civil       153.0 \n",
            "Name: count, dtype: float64\n"
          ],
          "name": "stdout"
        },
        {
          "output_type": "stream",
          "text": [
            "/usr/local/lib/python3.7/dist-packages/ipykernel_launcher.py:24: FutureWarning: Passing a negative integer is deprecated in version 1.0 and will not be supported in future version. Instead, use None to not limit the column width.\n"
          ],
          "name": "stderr"
        }
      ]
    },
    {
      "cell_type": "markdown",
      "metadata": {
        "id": "FlWyVcWEer69"
      },
      "source": [
        "**4. Modelling**\n",
        "\n",
        "There exists multiple techniques how to solve a multi-label classification.\n",
        "\n",
        "**4.1 Problem Transformation**\n",
        "\n",
        "Divide the multi-label problem into one or more conventional single-label problems:\n",
        "\n",
        "*   Binary classification transformation (OneVsRest) — to divide the problem into several independent binary classification tasks\n",
        "*   Classifer Chain (ClassifierChain) — similar to binary relevance, difference being it forms chains in order to preserve label correlation\n",
        "*    Multi-class classification transformation (Label Powerset) — map out each combination of labels into a single label and trains a single label classifier\n",
        "\n",
        "**4.2 Word Embedding**\n",
        "\n",
        "There are different techniques to extract information from raw text data and use it to train a classification model:\n",
        "\n",
        "*   The Bag-of-Words model builds a vocabulary from a corpus of documents and counts how many times the words appear in each document.\n",
        "*   Instead of simple counting, uses the term frequency–inverse document frequency (or Tf–Idf) is intended to reflect how important a word is to a document in a collection or corpus.\n",
        "*   Word2Vec produces a vector space, typically of several hundred dimensions, with each unique word in the corpus such that words that share common contexts in the corpus are located close to one another in the space.\n",
        "*   GloVe"
      ]
    },
    {
      "cell_type": "code",
      "metadata": {
        "colab": {
          "base_uri": "https://localhost:8080/"
        },
        "id": "qAKOEg4i9qDJ",
        "outputId": "37917cdf-580c-4510-f3ca-9ce338a59f41"
      },
      "source": [
        "! pip install scikit-multilearn\n",
        "import sklearn\n",
        "from sklearn import feature_extraction\n",
        "from sklearn.model_selection import train_test_split\n",
        "from sklearn.feature_extraction.text import TfidfVectorizer\n",
        "from sklearn.metrics import roc_auc_score, accuracy_score, f1_score, roc_curve, confusion_matrix, multilabel_confusion_matrix, classification_report\n",
        "from sklearn.pipeline import Pipeline\n",
        "from sklearn.multiclass import OneVsRestClassifier\n",
        "from sklearn.multioutput import MultiOutputClassifier\n",
        "from skmultilearn.problem_transform import ClassifierChain, LabelPowerset\n",
        "from sklearn.naive_bayes import MultinomialNB\n",
        "from sklearn.linear_model import LogisticRegression\n",
        "from sklearn.svm import SVC, LinearSVC\n",
        "from sklearn.ensemble import RandomForestClassifier\n",
        "import xgboost as xgb\n",
        "\n",
        "seeds = [1, 43, 678, 90, 135]\n",
        "X_train, X_test, y_train, y_test = train_test_split(df['new_clean_text_deep_stem'], \n",
        "                                                    df.drop(['new_clean_text_deep_stem'], axis=1),\n",
        "                                                    test_size=0.3, \n",
        "                                                    random_state=seeds[0],\n",
        "                                                    shuffle=True)\n",
        "print(X_train.shape,y_train.shape)\n",
        "print(X_test.shape,y_test.shape)"
      ],
      "execution_count": null,
      "outputs": [
        {
          "output_type": "stream",
          "text": [
            "Requirement already satisfied: scikit-multilearn in /usr/local/lib/python3.7/dist-packages (0.2.0)\n",
            "(18055,) (18055, 11)\n",
            "(7739,) (7739, 11)\n"
          ],
          "name": "stdout"
        }
      ]
    },
    {
      "cell_type": "code",
      "metadata": {
        "colab": {
          "base_uri": "https://localhost:8080/"
        },
        "id": "Oa0QDS7OBR2e",
        "outputId": "462be8a9-bb1d-4d98-9859-86550e7f4d81"
      },
      "source": [
        "##Classic BoW\n",
        "vectorizer = feature_extraction.text.CountVectorizer(max_features=5000)\n",
        "vectorizer.fit(X_train)\n",
        "\n",
        "X_train = vectorizer.transform(X_train)\n",
        "X_test = vectorizer.transform(X_test)\n",
        "\n",
        "labels = ['care', 'harm', 'fairness', 'cheating', 'loyalty', 'betrayal', 'authority', 'subversion', 'purity', 'degradation', 'non-moral'] \n",
        "\n",
        "def run_pipeline(pipeline, X_train, y_train, X_test, y_test):\n",
        "    pipeline.fit(X_train, y_train)\n",
        "    predictions = pipeline.predict(X_test)\n",
        "    print(roc_auc_score(y_test, predictions)) # or + average = 'samples'; roc_auc_score(y_test, predictions.toarray()) for ClassifierChain\n",
        "    #print(classification_report(y_test, predictions, target_names=labels))\n",
        "\n",
        "run_pipeline(Pipeline([('clf', MultiOutputClassifier(MultinomialNB()))]), # MultinomialNB vs. LogisticRegression(solver='sag') vs. LinearSVC vs. RandomForestClassifier vs. xgb.XGBClassifier\n",
        "             X_train, y_train, X_test, y_test)                                  # OneVsRestClassifier (n_jobs = -1) vs. ClassifierChain vs. MultiOutputClassifier"
      ],
      "execution_count": null,
      "outputs": [
        {
          "output_type": "stream",
          "text": [
            "0.7706741107643663\n",
            "None\n"
          ],
          "name": "stdout"
        }
      ]
    },
    {
      "cell_type": "code",
      "metadata": {
        "id": "LwK7YVgf4gyr"
      },
      "source": [
        "##Tf-Idf\n",
        "vectorizer = TfidfVectorizer(max_features=5000, strip_accents='unicode', analyzer='word', ngram_range=(1,3), norm='l2')\n",
        "vectorizer.fit(X_train)\n",
        "\n",
        "X_train = vectorizer.transform(X_train)\n",
        "X_test = vectorizer.transform(X_test)\n",
        "\n",
        "run_pipeline(Pipeline([('clf', ClassifierChain(MultinomialNB()))]), \n",
        "             X_train, y_train, X_test, y_test)               "
      ],
      "execution_count": null,
      "outputs": []
    },
    {
      "cell_type": "code",
      "metadata": {
        "id": "UEpiTF72iD63"
      },
      "source": [
        "##Word embedding (Word2Vec)\n",
        "import gensim\n",
        "from gensim.models import Word2Vec\n",
        "\n",
        "combined_df = X_train.append(X_test)\n",
        "\n",
        "Vocab_list = (combined_df.apply(lambda x:str(x).strip().split()))\n",
        "models = Word2Vec(Vocab_list,size=100)\n",
        "WordVectorz = dict(zip(models.wv.index2word,models.wv.vectors))\n",
        "\n",
        "#fit these things into a pipeline\n",
        "class AverageEmbeddingVectorizer(object):\n",
        "    def __init__(self, word2vec):\n",
        "        self.word2vec = word2vec\n",
        "        # if a text is empty we should return a vector of zeros\n",
        "        # with the same dimensionality as all the other vectors\n",
        "        self.dim = 100 # as we use 100 embedding points \n",
        "\n",
        "    def fit(self, X, y):\n",
        "        return self\n",
        "\n",
        "    def transform(self, X): #average of all the word vectors that make up the sentence\n",
        "        return np.array([\n",
        "            np.mean([self.word2vec[w] for w in words if w in self.word2vec]\n",
        "                    or [np.zeros(self.dim)], axis=0)\n",
        "            for words in X\n",
        "        ])\n",
        "\n",
        "run_pipeline(Pipeline([(\"wordVectz\",AverageEmbeddingVectorizer(WordVectorz)),\n",
        "                       (\"multilabel\",ClassifierChain(LogisticRegression()))]),\n",
        "                        X_train, y_train, X_test, y_test)"
      ],
      "execution_count": null,
      "outputs": []
    },
    {
      "cell_type": "code",
      "metadata": {
        "id": "ymY0rHax4tpC"
      },
      "source": [
        "##Word embedding (GloVe)\n",
        "from keras.preprocessing.text import Tokenizer\n",
        "from keras.preprocessing.sequence import pad_sequences\n",
        "from nltk import word_tokenize\n",
        "import nltk\n",
        "nltk.download('punkt')\n",
        "import tqdm\n",
        "from tqdm import tqdm\n",
        "from numpy import array, asarray, zeros\n",
        "\n",
        "tokenizer = Tokenizer(num_words=5000, lower=True)\n",
        "tokenizer.fit_on_texts(df.new_clean_text_deep_stem)\n",
        "sequences = tokenizer.texts_to_sequences(df.new_clean_text_deep_stem)\n",
        "x = pad_sequences(sequences, maxlen=200)\n",
        "\n",
        "X_train, X_test, y_train, y_test = train_test_split(x, \n",
        "                                                    df[df.columns[1:]],\n",
        "                                                    test_size=0.3, \n",
        "                                                    random_state=seeds[4])\n",
        "        \n",
        "embeddings_dictionary = dict()\n",
        "glove_file = open('glove.6B.100d.txt', encoding=\"utf8\")\n",
        "for line in glove_file:\n",
        "    records = line.split()\n",
        "    word = records[0]\n",
        "    vector_dimensions = asarray(records[1:], dtype='float32')\n",
        "    embeddings_dictionary[word] = vector_dimensions\n",
        "glove_file.close()\n",
        "\n",
        "def sent2vec(s):\n",
        "    words = str(s).lower()\n",
        "    words = word_tokenize(words)\n",
        "    M = []\n",
        "    for w in words:\n",
        "        try:\n",
        "            M.append(embeddings_dictionary[w])\n",
        "        except:\n",
        "            continue\n",
        "    M = np.array(M)\n",
        "    v = M.sum(axis=0)\n",
        "    if type(v) != np.ndarray:\n",
        "        return np.zeros(300)\n",
        "    return v / np.sqrt((v ** 2).sum())\n",
        "\n",
        "X_train = [sent2vec(x) for x in tqdm(X_train)]\n",
        "X_test = [sent2vec(x) for x in tqdm(X_test)]\n",
        "\n",
        "run_pipeline(Pipeline([('clf', ClassifierChain(LogisticRegression()))]),\n",
        "             X_train, y_train, X_test, y_test)"
      ],
      "execution_count": null,
      "outputs": []
    },
    {
      "cell_type": "markdown",
      "metadata": {
        "id": "KKvvsmDo1smF"
      },
      "source": [
        "**4.3 Results (ML)**"
      ]
    },
    {
      "cell_type": "code",
      "metadata": {
        "colab": {
          "base_uri": "https://localhost:8080/",
          "height": 433
        },
        "id": "7qqnuXadgztH",
        "outputId": "b90d129b-7e7e-4f02-9371-54c3532305fd"
      },
      "source": [
        "arrays = [[\"OneVsRest\", \"OneVsRest\", \"OneVsRest\", \"OneVsRest\", \"ClassifierChain\", \"ClassifierChain\", \"ClassifierChain\", \"ClassifierChain\", \"MultiOutputClassifier\", \"MultiOutputClassifier\", \"MultiOutputClassifier\", \"MultiOutputClassifier\"],\n",
        "          [\"BOW\", \"TF-IDF\", \"Word2Vec\", \"GloVe\", \"BOW\", \"TF-IDF\", \"Word2Vec\", \"GloVe\", \"BOW\", \"TF-IDF\", \"Word2Vec\", \"GloVe\", \"BOW\", \"TF-IDF\", \"Word2Vec\", \"GloVe\"],\n",
        "          ]\n",
        "\n",
        "tuples = list(zip(*arrays))\n",
        "index = pd.MultiIndex.from_tuples(tuples, names=['', ''])\n",
        "results = pd.DataFrame(pd.Series(\"\", index=index))\n",
        "\n",
        "results = results.assign(MultinomialNB = (.77,.63,'-','-',\n",
        "                                   .77,.64,'-','-',\n",
        "                                   .77,.63,'-','-'), \n",
        "                  LogisticRegression = (.74,.69,.51,.50,\n",
        "                                        .75,.69,.50,.50,\n",
        "                                        .74,.69,.51,.50), \n",
        "                  LinearSVC = (.77,.75,.52,.51,\n",
        "                               .76,.75,.50,.49,\n",
        "                               .76,.75,.51,.51), \n",
        "                  RandomForest = (.74,.73,.58,.59,\n",
        "                                  .71,.73,.57,.58,\n",
        "                                  .74,.73,.58,.59),\n",
        "                  XGBoost = (.70,.69,.55,'-',\n",
        "                             .70,.73,.53,.54,\n",
        "                             .70,.69,.54,.56))\n",
        "results"
      ],
      "execution_count": null,
      "outputs": [
        {
          "output_type": "execute_result",
          "data": {
            "text/html": [
              "<div>\n",
              "<style scoped>\n",
              "    .dataframe tbody tr th:only-of-type {\n",
              "        vertical-align: middle;\n",
              "    }\n",
              "\n",
              "    .dataframe tbody tr th {\n",
              "        vertical-align: top;\n",
              "    }\n",
              "\n",
              "    .dataframe thead th {\n",
              "        text-align: right;\n",
              "    }\n",
              "</style>\n",
              "<table border=\"1\" class=\"dataframe\">\n",
              "  <thead>\n",
              "    <tr style=\"text-align: right;\">\n",
              "      <th></th>\n",
              "      <th></th>\n",
              "      <th>0</th>\n",
              "      <th>MultinomialNB</th>\n",
              "      <th>LogisticRegression</th>\n",
              "      <th>LinearSVC</th>\n",
              "      <th>RandomForest</th>\n",
              "      <th>XGBoost</th>\n",
              "    </tr>\n",
              "    <tr>\n",
              "      <th></th>\n",
              "      <th></th>\n",
              "      <th></th>\n",
              "      <th></th>\n",
              "      <th></th>\n",
              "      <th></th>\n",
              "      <th></th>\n",
              "      <th></th>\n",
              "    </tr>\n",
              "  </thead>\n",
              "  <tbody>\n",
              "    <tr>\n",
              "      <th rowspan=\"4\" valign=\"top\">OneVsRest</th>\n",
              "      <th>BOW</th>\n",
              "      <td></td>\n",
              "      <td>0.77</td>\n",
              "      <td>0.74</td>\n",
              "      <td>0.77</td>\n",
              "      <td>0.74</td>\n",
              "      <td>0.7</td>\n",
              "    </tr>\n",
              "    <tr>\n",
              "      <th>TF-IDF</th>\n",
              "      <td></td>\n",
              "      <td>0.63</td>\n",
              "      <td>0.69</td>\n",
              "      <td>0.75</td>\n",
              "      <td>0.73</td>\n",
              "      <td>0.69</td>\n",
              "    </tr>\n",
              "    <tr>\n",
              "      <th>Word2Vec</th>\n",
              "      <td></td>\n",
              "      <td>-</td>\n",
              "      <td>0.51</td>\n",
              "      <td>0.52</td>\n",
              "      <td>0.58</td>\n",
              "      <td>0.55</td>\n",
              "    </tr>\n",
              "    <tr>\n",
              "      <th>GloVe</th>\n",
              "      <td></td>\n",
              "      <td>-</td>\n",
              "      <td>0.50</td>\n",
              "      <td>0.51</td>\n",
              "      <td>0.59</td>\n",
              "      <td>-</td>\n",
              "    </tr>\n",
              "    <tr>\n",
              "      <th rowspan=\"4\" valign=\"top\">ClassifierChain</th>\n",
              "      <th>BOW</th>\n",
              "      <td></td>\n",
              "      <td>0.77</td>\n",
              "      <td>0.75</td>\n",
              "      <td>0.76</td>\n",
              "      <td>0.71</td>\n",
              "      <td>0.7</td>\n",
              "    </tr>\n",
              "    <tr>\n",
              "      <th>TF-IDF</th>\n",
              "      <td></td>\n",
              "      <td>0.64</td>\n",
              "      <td>0.69</td>\n",
              "      <td>0.75</td>\n",
              "      <td>0.73</td>\n",
              "      <td>0.73</td>\n",
              "    </tr>\n",
              "    <tr>\n",
              "      <th>Word2Vec</th>\n",
              "      <td></td>\n",
              "      <td>-</td>\n",
              "      <td>0.50</td>\n",
              "      <td>0.50</td>\n",
              "      <td>0.57</td>\n",
              "      <td>0.53</td>\n",
              "    </tr>\n",
              "    <tr>\n",
              "      <th>GloVe</th>\n",
              "      <td></td>\n",
              "      <td>-</td>\n",
              "      <td>0.50</td>\n",
              "      <td>0.49</td>\n",
              "      <td>0.58</td>\n",
              "      <td>0.54</td>\n",
              "    </tr>\n",
              "    <tr>\n",
              "      <th rowspan=\"4\" valign=\"top\">MultiOutputClassifier</th>\n",
              "      <th>BOW</th>\n",
              "      <td></td>\n",
              "      <td>0.77</td>\n",
              "      <td>0.74</td>\n",
              "      <td>0.76</td>\n",
              "      <td>0.74</td>\n",
              "      <td>0.7</td>\n",
              "    </tr>\n",
              "    <tr>\n",
              "      <th>TF-IDF</th>\n",
              "      <td></td>\n",
              "      <td>0.63</td>\n",
              "      <td>0.69</td>\n",
              "      <td>0.75</td>\n",
              "      <td>0.73</td>\n",
              "      <td>0.69</td>\n",
              "    </tr>\n",
              "    <tr>\n",
              "      <th>Word2Vec</th>\n",
              "      <td></td>\n",
              "      <td>-</td>\n",
              "      <td>0.51</td>\n",
              "      <td>0.51</td>\n",
              "      <td>0.58</td>\n",
              "      <td>0.54</td>\n",
              "    </tr>\n",
              "    <tr>\n",
              "      <th>GloVe</th>\n",
              "      <td></td>\n",
              "      <td>-</td>\n",
              "      <td>0.50</td>\n",
              "      <td>0.51</td>\n",
              "      <td>0.59</td>\n",
              "      <td>0.56</td>\n",
              "    </tr>\n",
              "  </tbody>\n",
              "</table>\n",
              "</div>"
            ],
            "text/plain": [
              "                               0 MultinomialNB  ...  RandomForest  XGBoost\n",
              "                                                ...                       \n",
              "OneVsRest             BOW         0.77          ...  0.74          0.7    \n",
              "                      TF-IDF      0.63          ...  0.73          0.69   \n",
              "                      Word2Vec    -             ...  0.58          0.55   \n",
              "                      GloVe       -             ...  0.59          -      \n",
              "ClassifierChain       BOW         0.77          ...  0.71          0.7    \n",
              "                      TF-IDF      0.64          ...  0.73          0.73   \n",
              "                      Word2Vec    -             ...  0.57          0.53   \n",
              "                      GloVe       -             ...  0.58          0.54   \n",
              "MultiOutputClassifier BOW         0.77          ...  0.74          0.7    \n",
              "                      TF-IDF      0.63          ...  0.73          0.69   \n",
              "                      Word2Vec    -             ...  0.58          0.54   \n",
              "                      GloVe       -             ...  0.59          0.56   \n",
              "\n",
              "[12 rows x 6 columns]"
            ]
          },
          "metadata": {
            "tags": []
          },
          "execution_count": 14
        }
      ]
    },
    {
      "cell_type": "markdown",
      "metadata": {
        "id": "ODW3rwdzoBWY"
      },
      "source": [
        "**4.2 Deep Learning**\n",
        "\n",
        "This technique normally gives a performance boost in NLP tasks, e.g., sentiment analysis. It is possible to either train the WordEmbedding layer or use a pre-trained one through transfer learning, such as word2vec and GloVe.\n",
        "\n",
        "Class weights were calculated to address the imbalance problem in the categories."
      ]
    },
    {
      "cell_type": "code",
      "metadata": {
        "colab": {
          "base_uri": "https://localhost:8080/",
          "height": 255
        },
        "id": "hbZ4q11soBok",
        "outputId": "11f0ab7c-f2ae-40c0-e92f-171931c83b51"
      },
      "source": [
        "from keras.preprocessing.text import Tokenizer\n",
        "from keras.preprocessing.sequence import pad_sequences\n",
        "import keras.models\n",
        "from keras.models import Sequential, Model\n",
        "from keras.layers import Embedding, SpatialDropout1D, Flatten, Dense, LSTM, GlobalMaxPool1D, Activation, Conv1D, Input, Bidirectional\n",
        "from keras.callbacks import ReduceLROnPlateau, EarlyStopping, ModelCheckpoint\n",
        "from keras.optimizers import Adam\n",
        "from keras import backend as K\n",
        "import tensorflow as tf\n",
        "import gensim\n",
        "from gensim.models import Word2Vec\n",
        "from numpy import zeros\n",
        "\n",
        "tokenizer = Tokenizer(num_words=5000, lower=True) #for details of 'num_words', see https://stackoverflow.com/questions/61760508/how-to-choose-num-words-parameter-for-keras-tokenizer\n",
        "tokenizer.fit_on_texts(df.new_clean_text_deep_stem)\n",
        "sequences = tokenizer.texts_to_sequences(df.new_clean_text_deep_stem)\n",
        "x = pad_sequences(sequences, maxlen=200)\n",
        "print('Shape of data tensor:', x.shape)\n",
        "\n",
        "seeds = [1, 43, 678, 90, 135]\n",
        "X_train, X_test, y_train, y_test = train_test_split(x, \n",
        "                                                    df[df.columns[1:]],\n",
        "                                                    test_size=0.3, \n",
        "                                                    random_state=seeds[0])\n",
        "print(X_train.shape,y_train.shape)\n",
        "print(X_test.shape,y_test.shape)\n",
        "\n",
        "most_common_cat = pd.DataFrame()\n",
        "most_common_cat['cat'] = df.columns[1:]\n",
        "most_common_cat['count'] = df.iloc[:,1:].sum().values\n",
        "most_common_cat.sort_values(['count'], inplace=True, ascending=False)\n",
        "most_common_cat.reset_index(inplace=True, drop=True)\n",
        "\n",
        "most_common_cat['class_weight'] = len(most_common_cat) / most_common_cat['count']\n",
        "class_weight = {}\n",
        "for index, label in enumerate(labels):\n",
        "    class_weight[index] = most_common_cat[most_common_cat['cat'] == labels]['class_weight'].values[0]\n",
        "    \n",
        "most_common_cat.head()"
      ],
      "execution_count": null,
      "outputs": [
        {
          "output_type": "stream",
          "text": [
            "Shape of data tensor: (25794, 200)\n",
            "(18055, 200) (18055, 11)\n",
            "(7739, 200) (7739, 11)\n"
          ],
          "name": "stdout"
        },
        {
          "output_type": "execute_result",
          "data": {
            "text/html": [
              "<div>\n",
              "<style scoped>\n",
              "    .dataframe tbody tr th:only-of-type {\n",
              "        vertical-align: middle;\n",
              "    }\n",
              "\n",
              "    .dataframe tbody tr th {\n",
              "        vertical-align: top;\n",
              "    }\n",
              "\n",
              "    .dataframe thead th {\n",
              "        text-align: right;\n",
              "    }\n",
              "</style>\n",
              "<table border=\"1\" class=\"dataframe\">\n",
              "  <thead>\n",
              "    <tr style=\"text-align: right;\">\n",
              "      <th></th>\n",
              "      <th>cat</th>\n",
              "      <th>count</th>\n",
              "      <th>class_weight</th>\n",
              "    </tr>\n",
              "  </thead>\n",
              "  <tbody>\n",
              "    <tr>\n",
              "      <th>0</th>\n",
              "      <td>non-moral</td>\n",
              "      <td>11853</td>\n",
              "      <td>0.000928</td>\n",
              "    </tr>\n",
              "    <tr>\n",
              "      <th>1</th>\n",
              "      <td>harm</td>\n",
              "      <td>2791</td>\n",
              "      <td>0.003941</td>\n",
              "    </tr>\n",
              "    <tr>\n",
              "      <th>2</th>\n",
              "      <td>cheating</td>\n",
              "      <td>2723</td>\n",
              "      <td>0.004040</td>\n",
              "    </tr>\n",
              "    <tr>\n",
              "      <th>3</th>\n",
              "      <td>care</td>\n",
              "      <td>2116</td>\n",
              "      <td>0.005198</td>\n",
              "    </tr>\n",
              "    <tr>\n",
              "      <th>4</th>\n",
              "      <td>fairness</td>\n",
              "      <td>1899</td>\n",
              "      <td>0.005793</td>\n",
              "    </tr>\n",
              "  </tbody>\n",
              "</table>\n",
              "</div>"
            ],
            "text/plain": [
              "         cat  count  class_weight\n",
              "0  non-moral  11853  0.000928    \n",
              "1  harm       2791   0.003941    \n",
              "2  cheating   2723   0.004040    \n",
              "3  care       2116   0.005198    \n",
              "4  fairness   1899   0.005793    "
            ]
          },
          "metadata": {
            "tags": []
          },
          "execution_count": 61
        }
      ]
    },
    {
      "cell_type": "markdown",
      "metadata": {
        "id": "VyC1GEQPlWAu"
      },
      "source": [
        "**4.2.1 DNN**\n",
        "\n",
        "Started with a simple model which only consists of an embedding layer, a dropout layer to reduce the size and prevent overfitting, a max-pooling layer, and one dense layer with a sigmoid activation to produce probabilities for each of the categories that we want to predict.\n",
        "\n",
        "**4.2.2 CNN**\n",
        "\n",
        "Convolutional Neural Networks recognize local patterns in a sequence by processing multiple words at the same time, and 1D convolutional networks are suitable for text processing tasks. In this case, the convolutional layer uses a window size of 3 and learns word sequences that can later be recognized in any position of a text.\n",
        "\n",
        "**4.2.3 LSTM**\n",
        "\n",
        "LSTM (Long short-term memory) are designed to make use of sequential data, when the current step has some kind of relation with the previous steps. This makes them ideal for applications with a time component (audio, time-series data) and natural language processing. LSTM’s perform very well for applications where sequential information is clearly important, because the meaning could be misinterpreted or the grammar could be incorrect if sequential information is not used. Applications include image captioning, language modeling and machine translation.\n",
        "\n",
        "While convolutional neural network (CNN) models use convolutional layers and maximum pooling or max-overtime pooling layers to extract higher-level features, LSTM models can capture long-term dependencies between word sequences hence are better used for text classification (Jang et al., 2020 Bi-LSTM Model to Increase Accuracy in Text\n",
        "Classification: Combining Word2vec CNN and\n",
        "Attention Mechanism; for more details, see [link text](https://www.kdnuggets.com/2019/08/deep-learning-nlp-explained.html)).\n",
        "\n",
        "*   Keras Embedding Layer (output_dim): start with 32. Improvement --> 64. Improvement --> 128 (for more details, see [link text](https://machinelearningmastery.com/use-word-embedding-layers-deep-learning-keras/)).\n",
        "*   Word Embedding: No improvement --> GloVe (0.937); No further improvement --> Word2Vec (0.902).\n",
        "*   The number of units in the LSTM: start with 32. Improvement --> 128. No further improvement --> 256 (for details, see [link text](https://stackoverflow.com/questions/54853138/how-to-set-the-length-of-input-layer-in-lstm)).\n",
        "*   Dropout: start with 0.1. Improvement --> 0.2.\n",
        "*   Recurrent Dropout: start with 0.0. No further improvement --> 0.2.\n",
        "*   Dense layer: start with model.add(Dense(num_classes, activation='sigmoid'))\n",
        ". No further improvoment --> add multiple layers.\n",
        "*   Data shuffling: a strong regularizer, shuffle batch samples."
      ]
    },
    {
      "cell_type": "code",
      "metadata": {
        "id": "3JbgcTEfhUR6"
      },
      "source": [
        "num_classes = y_train.shape[1]\n",
        "max_words = len(tokenizer.word_index) + 1 \n",
        "maxlen = 200\n",
        "filter_length = 300\n",
        "\n",
        "def getModel_dnn():\n",
        "    model = Sequential([\n",
        "        Embedding(max_words, 20, input_length=maxlen),\n",
        "        GlobalMaxPool1D(),\n",
        "        Dense(num_classes, activation='sigmoid'), \n",
        "    ],                                            \n",
        "    name=\"DNN_Model\")\n",
        "    return model\n",
        "\n",
        "def getModel_cnn():\n",
        "    model = Sequential([\n",
        "        Embedding(max_words, 128, input_length=maxlen),\n",
        "        Conv1D(filter_length, 3, padding='valid', activation='relu', strides=1), #relu for learning non-liner decision boundaries\n",
        "        GlobalMaxPool1D(),\n",
        "        Dense(num_classes, activation='sigmoid'),\n",
        "    ],\n",
        "    name=\"CNN_Model\")\n",
        "    return model\n",
        "\n",
        "def getModel_lstm():\n",
        "    model = Sequential([\n",
        "        Embedding(max_words, 128, input_length=maxlen), #embed each integer in a 128-dimensional vector\n",
        "        SpatialDropout1D(0.2),\n",
        "        LSTM(128, dropout=0.2, recurrent_dropout=0.0),\n",
        "        Dense(num_classes, activation='sigmoid'), #output layer will have 11 neurons (equal to the number of labels); #sigmoid activation function to predict the probability for each class independently\n",
        "    ],\n",
        "    name=\"LSTM_Model\")\n",
        "    return model\n",
        "\n",
        "##LSTM (GloVe)\n",
        "embedding_matrix_gv = zeros((max_words, 100))\n",
        "for word, index in tokenizer.word_index.items():\n",
        "    embedding_vector = embeddings_dictionary.get(word)\n",
        "    if embedding_vector is not None:\n",
        "        embedding_matrix_gv[index] = embedding_vector\n",
        "\n",
        "def getModel_lstm_glove():\n",
        "    embedding_layer = Embedding(max_words, 100, weights=[embedding_matrix_gv], trainable=False)\n",
        "    model = Sequential([\n",
        "        embedding_layer,\n",
        "        LSTM(128, dropout=0.2, recurrent_dropout=0.0),\n",
        "        Dense(num_classes, activation='sigmoid'),\n",
        "    ],\n",
        "    name=\"LSTM_GloVe_Model\")\n",
        "    return model\n",
        "\n",
        "#getModel_dnn vs. getModel_cnn vs. getModel_lstm vs. getModel_lstm_glove\n",
        "training_model = getModel_lstm_glove() \n",
        "training_model.compile(optimizer='adam', loss='binary_crossentropy', metrics=[tf.keras.metrics.AUC()]) # since we have converted into a n-binary classification problem, here we use binary-crosstropy loss; see https://towardsdatascience.com/choosing-the-right-hyperparameters-for-a-simple-lstm-using-keras-f8e9ed76f046\n",
        "\n",
        "callbacks = [\n",
        "    ReduceLROnPlateau(),\n",
        "    ModelCheckpoint(filepath='model-conv1d.h5', save_best_only=True)\n",
        "]\n",
        "\n",
        "history = training_model.fit(X_train, y_train,\n",
        "                    class_weight=class_weight,\n",
        "                    epochs=30,\n",
        "                    batch_size=32,\n",
        "                    validation_split=0.3,\n",
        "                    callbacks=callbacks)\n",
        "\n",
        "metrics = training_model.evaluate(X_test, y_test)\n",
        "print(\"{}: {}\".format(training_model.metrics_names[1], metrics[1]))\n",
        "\n",
        "# serialize model to JSON\n",
        "#lstm_model_json = training_model.to_json()\n",
        "#with open(\"lstm_model.json\", \"w\") as json_file:\n",
        "#    json_file.write(lstm_model_json)\n",
        "# serialize weights to HDF5\n",
        "#training_model.save_weights(\"lstm_model.h5\")\n",
        "#print(\"Saved model to disk\")"
      ],
      "execution_count": null,
      "outputs": []
    },
    {
      "cell_type": "markdown",
      "metadata": {
        "id": "HFADpLFwb1LS"
      },
      "source": [
        "**LSTM with Word2Vec/GloVe**"
      ]
    },
    {
      "cell_type": "code",
      "metadata": {
        "id": "tNwfPixH18Lq"
      },
      "source": [
        "##LSTM (Word2Vec)\n",
        "#X_train, X_test, y_train, y_test = train_test_split(df['new_clean_text_deep_stem'], \n",
        "#                                                    df.drop(['new_clean_text_deep_stem'], axis=1),\n",
        "#                                                    test_size=0.3, \n",
        "#                                                    random_state=seeds[4],\n",
        "#                                                    shuffle=True)\n",
        "\n",
        "Embedding_dimensions = 100\n",
        "Word2vec_train_data = list(map(lambda x: x.split(), X_train))\n",
        "word2vec_model = Word2Vec(Word2vec_train_data,\n",
        "                size=100, window=5, min_count=10, workers=8)\n",
        "\n",
        "vocab_length = 60000\n",
        "tokenizer = Tokenizer(num_words=5000, lower=True)\n",
        "tokenizer.fit_on_texts(df.new_clean_text_deep_stem)\n",
        "tokenizer.num_words = vocab_length\n",
        "\n",
        "X_train = pad_sequences(tokenizer.texts_to_sequences(X_train), maxlen=200)\n",
        "X_test  = pad_sequences(tokenizer.texts_to_sequences(X_test) , maxlen=200)\n",
        "\n",
        "embedding_matrix_2 = zeros((max_words, 100))\n",
        "\n",
        "for word, token in tokenizer.word_index.items():\n",
        "    if word2vec_model.wv.__contains__(word):\n",
        "        embedding_matrix_2[token] = word2vec_model.wv.__getitem__(word)\n",
        "\n",
        "def getModel_lstm_w2():\n",
        "    embedding_layer = Embedding(max_words, 100, weights=[embedding_matrix_2], trainable=False)\n",
        "    model = Sequential([\n",
        "        embedding_layer,\n",
        "        Bidirectional(LSTM(128, dropout=0.2, recurrent_dropout=0.0)),\n",
        "        Dense(num_classes, activation='sigmoid'),\n",
        "    ],\n",
        "    name=\"LSTM_Word2Vec_Model\")\n",
        "    return model"
      ],
      "execution_count": null,
      "outputs": []
    },
    {
      "cell_type": "markdown",
      "metadata": {
        "id": "6ZMsP3PeqNYH"
      },
      "source": [
        "**Conclusion** \n",
        "\n",
        "The results table is the performance of each algorithm with five different seeds to mitigate the split bias.\n",
        "\n",
        "Based on the benchmark, the Deep Neural Network showed the best AUC score, but the difference is minimal among the deep learning models, and the CNN and the LSTM have similar performances.\n",
        "\n",
        "CNN’s are good at extracting local and position-invariant features whereas LSTM's are better when classification is determined by a long range semantic dependency rather than some local key-phrases. For tasks where feature detection in text is more important, for example, searching for spam terms, named entities etc. CNN’s work well whereas for tasks where sequential modeling is more important, LSTM's work better.\n",
        "\n",
        "https://journals.sagepub.com/doi/pdf/10.1177/1948550619876629"
      ]
    },
    {
      "cell_type": "code",
      "metadata": {
        "colab": {
          "base_uri": "https://localhost:8080/",
          "height": 433
        },
        "id": "ltL6wBG-XLr1",
        "outputId": "be27f8df-f2b3-4bc1-feee-1c50b85e7785"
      },
      "source": [
        "results.assign(DNN_Average = (\"\",\"\",\"\",\"\",\n",
        "                                \"\",\"\",\"\",\"\",\n",
        "                                \"\",\"\",\"\",.90), \n",
        "                         CNN_Average = (\"\",\"\",\"\",\"\",\n",
        "                                \"\",\"\",\"\",\"\",\n",
        "                                \"\",\"\",\"\",.96), \n",
        "                         LSTM_Average = (\"\",\"\",\"\",\"\",\n",
        "                                 \"\",\"\",\"\",\"\",\n",
        "                                 \"\",\"\",\"\",.96))"
      ],
      "execution_count": null,
      "outputs": [
        {
          "output_type": "execute_result",
          "data": {
            "text/html": [
              "<div>\n",
              "<style scoped>\n",
              "    .dataframe tbody tr th:only-of-type {\n",
              "        vertical-align: middle;\n",
              "    }\n",
              "\n",
              "    .dataframe tbody tr th {\n",
              "        vertical-align: top;\n",
              "    }\n",
              "\n",
              "    .dataframe thead th {\n",
              "        text-align: right;\n",
              "    }\n",
              "</style>\n",
              "<table border=\"1\" class=\"dataframe\">\n",
              "  <thead>\n",
              "    <tr style=\"text-align: right;\">\n",
              "      <th></th>\n",
              "      <th></th>\n",
              "      <th>0</th>\n",
              "      <th>MultinomialNB</th>\n",
              "      <th>LogisticRegression</th>\n",
              "      <th>LinearSVC</th>\n",
              "      <th>RandomForest</th>\n",
              "      <th>XGBoost</th>\n",
              "      <th>DNN_Average</th>\n",
              "      <th>CNN_Average</th>\n",
              "      <th>LSTM_Average</th>\n",
              "    </tr>\n",
              "    <tr>\n",
              "      <th></th>\n",
              "      <th></th>\n",
              "      <th></th>\n",
              "      <th></th>\n",
              "      <th></th>\n",
              "      <th></th>\n",
              "      <th></th>\n",
              "      <th></th>\n",
              "      <th></th>\n",
              "      <th></th>\n",
              "      <th></th>\n",
              "    </tr>\n",
              "  </thead>\n",
              "  <tbody>\n",
              "    <tr>\n",
              "      <th rowspan=\"4\" valign=\"top\">OneVsRest</th>\n",
              "      <th>BOW</th>\n",
              "      <td></td>\n",
              "      <td>0.77</td>\n",
              "      <td>0.74</td>\n",
              "      <td>0.77</td>\n",
              "      <td>0.74</td>\n",
              "      <td>0.7</td>\n",
              "      <td></td>\n",
              "      <td></td>\n",
              "      <td></td>\n",
              "    </tr>\n",
              "    <tr>\n",
              "      <th>TF-IDF</th>\n",
              "      <td></td>\n",
              "      <td>0.63</td>\n",
              "      <td>0.69</td>\n",
              "      <td>0.75</td>\n",
              "      <td>0.73</td>\n",
              "      <td>0.69</td>\n",
              "      <td></td>\n",
              "      <td></td>\n",
              "      <td></td>\n",
              "    </tr>\n",
              "    <tr>\n",
              "      <th>Word2Vec</th>\n",
              "      <td></td>\n",
              "      <td>-</td>\n",
              "      <td>0.51</td>\n",
              "      <td>0.52</td>\n",
              "      <td>0.58</td>\n",
              "      <td>0.55</td>\n",
              "      <td></td>\n",
              "      <td></td>\n",
              "      <td></td>\n",
              "    </tr>\n",
              "    <tr>\n",
              "      <th>GloVe</th>\n",
              "      <td></td>\n",
              "      <td>-</td>\n",
              "      <td>0.50</td>\n",
              "      <td>0.51</td>\n",
              "      <td>0.59</td>\n",
              "      <td>-</td>\n",
              "      <td></td>\n",
              "      <td></td>\n",
              "      <td></td>\n",
              "    </tr>\n",
              "    <tr>\n",
              "      <th rowspan=\"4\" valign=\"top\">ClassifierChain</th>\n",
              "      <th>BOW</th>\n",
              "      <td></td>\n",
              "      <td>0.77</td>\n",
              "      <td>0.75</td>\n",
              "      <td>0.76</td>\n",
              "      <td>0.71</td>\n",
              "      <td>0.7</td>\n",
              "      <td></td>\n",
              "      <td></td>\n",
              "      <td></td>\n",
              "    </tr>\n",
              "    <tr>\n",
              "      <th>TF-IDF</th>\n",
              "      <td></td>\n",
              "      <td>0.64</td>\n",
              "      <td>0.69</td>\n",
              "      <td>0.75</td>\n",
              "      <td>0.73</td>\n",
              "      <td>0.73</td>\n",
              "      <td></td>\n",
              "      <td></td>\n",
              "      <td></td>\n",
              "    </tr>\n",
              "    <tr>\n",
              "      <th>Word2Vec</th>\n",
              "      <td></td>\n",
              "      <td>-</td>\n",
              "      <td>0.50</td>\n",
              "      <td>0.50</td>\n",
              "      <td>0.57</td>\n",
              "      <td>0.53</td>\n",
              "      <td></td>\n",
              "      <td></td>\n",
              "      <td></td>\n",
              "    </tr>\n",
              "    <tr>\n",
              "      <th>GloVe</th>\n",
              "      <td></td>\n",
              "      <td>-</td>\n",
              "      <td>0.50</td>\n",
              "      <td>0.49</td>\n",
              "      <td>0.58</td>\n",
              "      <td>0.54</td>\n",
              "      <td></td>\n",
              "      <td></td>\n",
              "      <td></td>\n",
              "    </tr>\n",
              "    <tr>\n",
              "      <th rowspan=\"4\" valign=\"top\">MultiOutputClassifier</th>\n",
              "      <th>BOW</th>\n",
              "      <td></td>\n",
              "      <td>0.77</td>\n",
              "      <td>0.74</td>\n",
              "      <td>0.76</td>\n",
              "      <td>0.74</td>\n",
              "      <td>0.7</td>\n",
              "      <td></td>\n",
              "      <td></td>\n",
              "      <td></td>\n",
              "    </tr>\n",
              "    <tr>\n",
              "      <th>TF-IDF</th>\n",
              "      <td></td>\n",
              "      <td>0.63</td>\n",
              "      <td>0.69</td>\n",
              "      <td>0.75</td>\n",
              "      <td>0.73</td>\n",
              "      <td>0.69</td>\n",
              "      <td></td>\n",
              "      <td></td>\n",
              "      <td></td>\n",
              "    </tr>\n",
              "    <tr>\n",
              "      <th>Word2Vec</th>\n",
              "      <td></td>\n",
              "      <td>-</td>\n",
              "      <td>0.51</td>\n",
              "      <td>0.51</td>\n",
              "      <td>0.58</td>\n",
              "      <td>0.54</td>\n",
              "      <td></td>\n",
              "      <td></td>\n",
              "      <td></td>\n",
              "    </tr>\n",
              "    <tr>\n",
              "      <th>GloVe</th>\n",
              "      <td></td>\n",
              "      <td>-</td>\n",
              "      <td>0.50</td>\n",
              "      <td>0.51</td>\n",
              "      <td>0.59</td>\n",
              "      <td>0.56</td>\n",
              "      <td>0.9</td>\n",
              "      <td>0.96</td>\n",
              "      <td>0.96</td>\n",
              "    </tr>\n",
              "  </tbody>\n",
              "</table>\n",
              "</div>"
            ],
            "text/plain": [
              "                               0 MultinomialNB  ...  CNN_Average  LSTM_Average\n",
              "                                                ...                           \n",
              "OneVsRest             BOW         0.77          ...                           \n",
              "                      TF-IDF      0.63          ...                           \n",
              "                      Word2Vec    -             ...                           \n",
              "                      GloVe       -             ...                           \n",
              "ClassifierChain       BOW         0.77          ...                           \n",
              "                      TF-IDF      0.64          ...                           \n",
              "                      Word2Vec    -             ...                           \n",
              "                      GloVe       -             ...                           \n",
              "MultiOutputClassifier BOW         0.77          ...                           \n",
              "                      TF-IDF      0.63          ...                           \n",
              "                      Word2Vec    -             ...                           \n",
              "                      GloVe       -             ...  0.96         0.96        \n",
              "\n",
              "[12 rows x 9 columns]"
            ]
          },
          "metadata": {
            "tags": []
          },
          "execution_count": 15
        }
      ]
    }
  ]
}